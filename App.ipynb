{
 "cells": [
  {
   "cell_type": "markdown",
   "id": "f1face9d",
   "metadata": {},
   "source": [
    "__Blogs:__\n",
    "- [Satellite Imagery Analysis /w `tiff` files](https://medium.com/@syamkakarla/satellite-imagery-analysis-101-handling-tiff-files-22e4d2da236d)\n",
    "- [Spatial Interpolation](https://medium.com/@lorenzoperozzi/exploring-spatial-interpolation-f41e86d37a05)\n",
    "- [Getting Started w/ Geodata: pt. 2](https://towardsdatascience.com/getting-started-with-geographic-data-science-in-python-part-2-f9e2b1d8abd7)\n",
    "- [Event Prediction](https://towardsdatascience.com/extreme-event-forecasting-with-lstm-autoencoders-297492485037)\n",
    "- [Access, Preprocess & Analysis Satellite Images](https://towardsdatascience.com/satellite-imagery-access-and-analysis-in-python-jupyter-notebooks-387971ece84b)\n",
    "\n"
   ]
  },
  {
   "cell_type": "code",
   "execution_count": null,
   "id": "32a152eb",
   "metadata": {},
   "outputs": [],
   "source": []
  }
 ],
 "metadata": {
  "kernelspec": {
   "display_name": "Python 3 (ipykernel)",
   "language": "python",
   "name": "python3"
  },
  "language_info": {
   "codemirror_mode": {
    "name": "ipython",
    "version": 3
   },
   "file_extension": ".py",
   "mimetype": "text/x-python",
   "name": "python",
   "nbconvert_exporter": "python",
   "pygments_lexer": "ipython3",
   "version": "3.9.7"
  }
 },
 "nbformat": 4,
 "nbformat_minor": 5
}
